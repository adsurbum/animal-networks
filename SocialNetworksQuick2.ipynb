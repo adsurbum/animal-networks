{
 "cells": [
  {
   "cell_type": "code",
   "execution_count": 241,
   "metadata": {
    "collapsed": false
   },
   "outputs": [],
   "source": [
    "import numpy as np\n",
    "import random\n",
    "\n",
    "def step(rels, pb, pr, pn):\n",
    "    baby_index = random.randrange(0,N)\n",
    "    parent_index = random.choice(range(0, baby_index) + range(baby_index+1, N)) # excludes dead index\n",
    "    \n",
    "    #killing the guy. he is not a friend of anybody now\n",
    "    rels[:,baby_index] = 0\n",
    "    rels[baby_index] = 0 \n",
    "        \n",
    "    parent_friends = rels[parent_index]==1 \n",
    "\n",
    "    r = np.random.random(size=N)\n",
    "    rels[baby_index, r<pr]=1\n",
    "    rels[r<pr, baby_index]=1\n",
    "    \n",
    "    rels[baby_index, parent_index] = 1\n",
    "    rels[parent_index, baby_index] = 1\n",
    "\n",
    "    rels[baby_index, baby_index] = 0\n",
    "\n",
    "    #for parent friends\n",
    "    l = len(rels[baby_index, parent_friends])\n",
    "    r = np.random.random(size=l)\n",
    "    r = r<pn\n",
    "    rels[baby_index, parent_friends] = r\n",
    "    rels[parent_friends, baby_index] = r"
   ]
  },
  {
   "cell_type": "code",
   "execution_count": 242,
   "metadata": {
    "collapsed": false
   },
   "outputs": [
    {
     "name": "stdout",
     "output_type": "stream",
     "text": [
      "[33.76, 34.62, 35.48, 37.52, 38.18, 40.62, 42.1, 42.58, 44.88, 48.24, 49.92, 52.86, 57.5, 59.02, 62.82, 66.38, 71.76, 76.26, 82.26, 90.48, 99.0]\n",
      "[23.5, 24.9, 25.0, 26.74, 27.92, 28.48, 30.24, 32.88, 33.34, 34.86, 36.74, 40.38, 42.64, 46.18, 50.98, 54.34, 60.42, 65.06, 73.36, 86.22, 99.0]\n",
      "[10.08, 10.0, 10.3, 10.72, 12.42, 13.12, 13.66, 13.74, 14.94, 16.0, 17.8, 19.1, 22.18, 23.0, 26.06, 29.62, 37.26, 41.9, 50.88, 65.24, 97.74]\n",
      "CPU times: user 4.5 s, sys: 62.8 ms, total: 4.57 s\n",
      "Wall time: 4.77 s\n"
     ]
    }
   ],
   "source": [
    "%%time\n",
    "def run(pb, pr, pn):\n",
    "    # init population\n",
    "    rels = np.zeros((N,N))\n",
    "\n",
    "    #run steps\n",
    "    for _ in xrange(steps):\n",
    "        step(rels,pb, pr, pn)\n",
    "\n",
    "    return sum([sum(row) for row in rels])/N #degree\n",
    "\n",
    "N = 100\n",
    "steps = 2000\n",
    "pb = 1\n",
    "\n",
    "pr = 0.5\n",
    "pr05 = [run(pb, pr, pn) for pn in np.arange(0,1.05,0.05)]\n",
    "print pr05\n",
    "\n",
    "pr = 0.3\n",
    "pr03 = [run(pb, pr, pn) for pn in np.arange(0,1.05,0.05)]\n",
    "print pr03\n",
    "\n",
    "pr = 0.1\n",
    "pr01 = [run(pb, pr, pn) for pn in np.arange(0,1.05,0.05)]\n",
    "print pr01"
   ]
  },
  {
   "cell_type": "code",
   "execution_count": 243,
   "metadata": {
    "collapsed": false
   },
   "outputs": [
    {
     "data": {
      "image/png": "[encoded data removed]",
      "text/plain": [
       "<matplotlib.figure.Figure at 0x11426c3d0>"
      ]
     },
     "metadata": {},
     "output_type": "display_data"
    }
   ],
   "source": [
    "%matplotlib inline\n",
    "import numpy.polynomial.polynomial as poly\n",
    "import matplotlib.pyplot as plt\n",
    "\n",
    "def drawFor(x,y):\n",
    "    for x1, y1 in zip(x, y):\n",
    "        plt.plot(x1, y1, 'bo')\n",
    "    x_new = np.linspace(x[0], x[-1], num=len(x)*10)\n",
    "    coefs = poly.polyfit(x, y, 8)\n",
    "    ffit = poly.polyval(x_new, coefs)\n",
    "    plt.plot(x_new, ffit)\n",
    "\n",
    "drawFor(np.arange(0,1.05,0.05),pr01)\n",
    "drawFor(np.arange(0,1.05,0.05),pr03)\n",
    "drawFor(np.arange(0,1.05,0.05),pr05)\n",
    "plt.show()"
   ]
  },
  {
   "cell_type": "code",
   "execution_count": 75,
   "metadata": {
    "collapsed": false
   },
   "outputs": [
    {
     "name": "stdout",
     "output_type": "stream",
     "text": [
      "1 loop, best of 3: 1.2 s per loop\n",
      "10 loops, best of 3: 145 ms per loop\n",
      "1 loop, best of 3: 200 ms per loop\n",
      "1 loop, best of 3: 277 ms per loop\n",
      "1 loop, best of 3: 467 ms per loop\n"
     ]
    }
   ],
   "source": [
    "import random\n",
    "import numpy\n",
    "\n",
    "N = 10000000\n",
    "%timeit [random.random() for _ in xrange(N)]\n",
    "%timeit numpy.random.random(size=N)\n",
    "%timeit range(N)\n",
    "%timeit for _ in xrange(N): None\n",
    "%timeit for _ in range(N): None"
   ]
  },
  {
   "cell_type": "code",
   "execution_count": null,
   "metadata": {
    "collapsed": true
   },
   "outputs": [],
   "source": []
  }
 ],
 "metadata": {
  "kernelspec": {
   "display_name": "Python 2",
   "language": "python",
   "name": "python2"
  },
  "language_info": {
   "codemirror_mode": {
    "name": "ipython",
    "version": 2
   },
   "file_extension": ".py",
   "mimetype": "text/x-python",
   "name": "python",
   "nbconvert_exporter": "python",
   "pygments_lexer": "ipython2",
   "version": "2.7.13"
  }
 },
 "nbformat": 4,
 "nbformat_minor": 2
}
