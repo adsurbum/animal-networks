{
 "cells": [
  {
   "cell_type": "code",
   "execution_count": 123,
   "metadata": {
    "collapsed": false
   },
   "outputs": [],
   "source": [
    "import numpy as np\n",
    "import random\n",
    "\n",
    "def step(rels, pb, pr, pn, r):\n",
    "    baby_index = random.randrange(0,N)\n",
    "    parent_index = random.choice(list(range(0, baby_index))\n",
    "                                 + list(range(baby_index+1, N)))\n",
    "    \n",
    "    #killing the guy. he is not a friend of anybody now\n",
    "    rels[:,baby_index] = 0\n",
    "    rels[baby_index] = 0 \n",
    "        \n",
    "    parent_friends = rels[parent_index]==1 \n",
    "\n",
    "    rels[baby_index, r<pr]=1\n",
    "    rels[r<pr, baby_index]=1\n",
    "    \n",
    "    rels[baby_index, parent_index] = 1\n",
    "    rels[parent_index, baby_index] = 1\n",
    "\n",
    "    rels[baby_index, baby_index] = 0\n",
    "\n",
    "    #for parent friends\n",
    "    l = len(rels[baby_index, parent_friends])\n",
    "    r = np.random.random(size=l)\n",
    "    r = r<pn\n",
    "    rels[baby_index, parent_friends] = r\n",
    "    rels[parent_friends, baby_index] = r"
   ]
  },
  {
   "cell_type": "code",
   "execution_count": 143,
   "metadata": {
    "collapsed": false
   },
   "outputs": [
    {
     "name": "stdout",
     "output_type": "stream",
     "text": [
      "[0.0, 0.0, 0.0, 0.0, 0.0, 0.0, 0.0, 0.0, 0.0, 0.0, 0.0, 0.0, 0.0, 0.0, 0.0, 0.0, 0.0, 0.0, 0.0, 0.0, 0.0]\n",
      "[0.0, 0.0, 0.0, 0.0, 0.0, 0.0, 0.0, 0.0, 0.0, 0.0, 0.0, 0.0, 0.0, 0.0, 0.0, 0.0, 0.0, 0.0, 0.0, 0.0, 0.0]\n",
      "[0.0, 0.0, 0.0, 0.0, 0.0, 0.0, 0.0, 0.0, 0.0, 0.0, 0.0, 0.0, 0.0, 0.0, 0.0, 0.0, 0.0, 0.0, 0.0, 0.0, 0.0]\n",
      "CPU times: user 432 ms, sys: 4.32 ms, total: 437 ms\n",
      "Wall time: 443 ms\n"
     ]
    }
   ],
   "source": [
    "%%time\n",
    "def run(pb, pr, pn):\n",
    "    # init population\n",
    "    rels = np.zeros((N,N))\n",
    "#     rs = np.random.random(size=N*steps)\n",
    "    \n",
    "    #run steps\n",
    "    for i in range(steps):\n",
    "#         r = rs[i*N:i*N+N]\n",
    "        r = np.random.random(size=N)\n",
    "#         step(rels,pb, pr, pn, r)\n",
    "\n",
    "    return sum([sum(row) for row in rels])/N #degree\n",
    "\n",
    "N = 100\n",
    "steps = 2000\n",
    "pb = 1\n",
    "\n",
    "pr = 0.5\n",
    "pr05 = [run(pb, pr, pn) for pn in np.arange(0,1.05,0.05)]\n",
    "print(pr05)\n",
    "\n",
    "pr = 0.3\n",
    "pr03 = [run(pb, pr, pn) for pn in np.arange(0,1.05,0.05)]\n",
    "print(pr03)\n",
    "\n",
    "pr = 0.1\n",
    "pr01 = [run(pb, pr, pn) for pn in np.arange(0,1.05,0.05)]\n",
    "print(pr01)"
   ]
  },
  {
   "cell_type": "code",
   "execution_count": 125,
   "metadata": {
    "collapsed": false
   },
   "outputs": [
    {
     "data": {
      "image/png": "[encoded data removed]",
      "text/plain": [
       "<matplotlib.figure.Figure at 0x112f90cf8>"
      ]
     },
     "metadata": {},
     "output_type": "display_data"
    }
   ],
   "source": [
    "%matplotlib inline\n",
    "import numpy.polynomial.polynomial as poly\n",
    "import matplotlib.pyplot as plt\n",
    "\n",
    "def drawFor(x,y):\n",
    "    for x1, y1 in zip(x, y):\n",
    "        plt.plot(x1, y1, 'bo')\n",
    "    x_new = np.linspace(x[0], x[-1], num=len(x)*10)\n",
    "    coefs = poly.polyfit(x, y, 8)\n",
    "    ffit = poly.polyval(x_new, coefs)\n",
    "    plt.plot(x_new, ffit)\n",
    "\n",
    "drawFor(np.arange(0,1.05,0.05),pr01)\n",
    "drawFor(np.arange(0,1.05,0.05),pr03)\n",
    "drawFor(np.arange(0,1.05,0.05),pr05)\n",
    "plt.show()"
   ]
  },
  {
   "cell_type": "code",
   "execution_count": 144,
   "metadata": {
    "collapsed": false
   },
   "outputs": [
    {
     "name": "stdout",
     "output_type": "stream",
     "text": [
      "1 loop, best of 3: 1.52 s per loop\n",
      "1 loop, best of 3: 1.08 s per loop\n"
     ]
    }
   ],
   "source": [
    "%timeit np.random.random(size=1000*100000)\n",
    "%timeit for _ in range(1000): np.random.random(size=100000)"
   ]
  },
  {
   "cell_type": "code",
   "execution_count": 149,
   "metadata": {
    "collapsed": false
   },
   "outputs": [
    {
     "name": "stdout",
     "output_type": "stream",
     "text": [
      "1 loop, best of 3: 1.36 s per loop\n",
      "1 loop, best of 3: 2.4 s per loop\n",
      "1 loop, best of 3: 10.7 s per loop\n"
     ]
    }
   ],
   "source": [
    "N = 100\n",
    "steps = 2000\n",
    "times = 50\n",
    "pr,pn = 3,3\n",
    "%timeit np.random.random(size=N*steps*times*pr*pn)\n",
    "%timeit for _ in range(steps*times*pr*pn): np.random.random(size=N)\n",
    "%timeit for _ in range(N*steps*times*pr*pn): random.random()"
   ]
  },
  {
   "cell_type": "code",
   "execution_count": null,
   "metadata": {
    "collapsed": true
   },
   "outputs": [],
   "source": []
  }
 ],
 "metadata": {
  "kernelspec": {
   "display_name": "Python 3",
   "language": "python",
   "name": "python3"
  },
  "language_info": {
   "codemirror_mode": {
    "name": "ipython",
    "version": 3
   },
   "file_extension": ".py",
   "mimetype": "text/x-python",
   "name": "python",
   "nbconvert_exporter": "python",
   "pygments_lexer": "ipython3",
   "version": "3.6.0"
  }
 },
 "nbformat": 4,
 "nbformat_minor": 2
}
