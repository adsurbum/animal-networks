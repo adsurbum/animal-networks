{
 "cells": [
  {
   "cell_type": "code",
   "execution_count": 28,
   "metadata": {
    "collapsed": false
   },
   "outputs": [],
   "source": [
    "import numpy as np\n",
    "import random\n",
    "\n",
    "def step(rels, pb, pr, pn):\n",
    "    baby_index = random.randrange(0,N)\n",
    "    parent_index = random.choice(list(range(0, baby_index))\n",
    "                                 + list(range(baby_index+1, N)))\n",
    "    \n",
    "    #killing the guy. he is not a friend of anybody now\n",
    "    rels[:,baby_index] = 0\n",
    "    rels[baby_index] = 0 \n",
    "        \n",
    "    parent_friends = rels[parent_index]==1 \n",
    "\n",
    "    r = np.random.random(size=N)\n",
    "    rels[baby_index, r<pr]=1\n",
    "    rels[r<pr, baby_index]=1\n",
    "    \n",
    "    rels[baby_index, parent_index] = 1\n",
    "    rels[parent_index, baby_index] = 1\n",
    "\n",
    "    rels[baby_index, baby_index] = 0\n",
    "\n",
    "    #for parent friends\n",
    "    l = len(rels[baby_index, parent_friends])\n",
    "    r = np.random.random(size=l)\n",
    "    r = r<pn\n",
    "    rels[baby_index, parent_friends] = r\n",
    "    rels[parent_friends, baby_index] = r"
   ]
  },
  {
   "cell_type": "code",
   "execution_count": 29,
   "metadata": {
    "collapsed": false
   },
   "outputs": [
    {
     "name": "stdout",
     "output_type": "stream",
     "text": [
      "[32.96, 34.72, 35.94, 37.26, 39.14, 40.12, 40.28, 44.84, 45.54, 47.76, 50.24, 52.24, 55.28, 58.32, 62.54, 66.72, 72.72, 76.48, 82.32, 91.32, 99.0]\n",
      "[23.9, 23.74, 25.0, 27.44, 27.64, 28.58, 29.72, 31.66, 34.52, 35.56, 39.06, 40.38, 42.58, 46.12, 52.0, 55.62, 60.16, 67.82, 73.92, 85.2, 99.0]\n",
      "[9.4, 10.52, 10.56, 11.86, 11.56, 12.3, 13.4, 14.12, 15.0, 15.52, 18.26, 18.64, 22.92, 25.64, 28.92, 31.52, 34.24, 43.88, 51.94, 67.56, 94.74]\n",
      "CPU times: user 4.65 s, sys: 35.4 ms, total: 4.68 s\n",
      "Wall time: 4.73 s\n"
     ]
    }
   ],
   "source": [
    "%%time\n",
    "def run(pb, pr, pn):\n",
    "    # init population\n",
    "    rels = np.zeros((N,N))\n",
    "\n",
    "    #run steps\n",
    "    for _ in range(steps):\n",
    "        step(rels,pb, pr, pn)\n",
    "\n",
    "    return sum([sum(row) for row in rels])/N #degree\n",
    "\n",
    "N = 100\n",
    "steps = 2000\n",
    "pb = 1\n",
    "\n",
    "pr = 0.5\n",
    "pr05 = [run(pb, pr, pn) for pn in np.arange(0,1.05,0.05)]\n",
    "print(pr05)\n",
    "\n",
    "pr = 0.3\n",
    "pr03 = [run(pb, pr, pn) for pn in np.arange(0,1.05,0.05)]\n",
    "print(pr03)\n",
    "\n",
    "pr = 0.1\n",
    "pr01 = [run(pb, pr, pn) for pn in np.arange(0,1.05,0.05)]\n",
    "print(pr01)"
   ]
  },
  {
   "cell_type": "code",
   "execution_count": 30,
   "metadata": {
    "collapsed": false
   },
   "outputs": [
    {
     "data": {
      "image/png": "[encoded data removed]",
      "text/plain": [
       "<matplotlib.figure.Figure at 0x110fcbfd0>"
      ]
     },
     "metadata": {},
     "output_type": "display_data"
    }
   ],
   "source": [
    "%matplotlib inline\n",
    "import numpy.polynomial.polynomial as poly\n",
    "import matplotlib.pyplot as plt\n",
    "\n",
    "def drawFor(x,y):\n",
    "    for x1, y1 in zip(x, y):\n",
    "        plt.plot(x1, y1, 'bo')\n",
    "    x_new = np.linspace(x[0], x[-1], num=len(x)*10)\n",
    "    coefs = poly.polyfit(x, y, 8)\n",
    "    ffit = poly.polyval(x_new, coefs)\n",
    "    plt.plot(x_new, ffit)\n",
    "\n",
    "drawFor(np.arange(0,1.05,0.05),pr01)\n",
    "drawFor(np.arange(0,1.05,0.05),pr03)\n",
    "drawFor(np.arange(0,1.05,0.05),pr05)\n",
    "plt.show()"
   ]
  },
  {
   "cell_type": "code",
   "execution_count": 75,
   "metadata": {
    "collapsed": false
   },
   "outputs": [
    {
     "name": "stdout",
     "output_type": "stream",
     "text": [
      "1 loop, best of 3: 1.2 s per loop\n",
      "10 loops, best of 3: 145 ms per loop\n",
      "1 loop, best of 3: 200 ms per loop\n",
      "1 loop, best of 3: 277 ms per loop\n",
      "1 loop, best of 3: 467 ms per loop\n"
     ]
    }
   ],
   "source": [
    "import random\n",
    "import numpy\n",
    "\n",
    "N = 10000000\n",
    "%timeit [random.random() for _ in xrange(N)]\n",
    "%timeit numpy.random.random(size=N)\n",
    "%timeit range(N)\n",
    "%timeit for _ in xrange(N): None\n",
    "%timeit for _ in range(N): None"
   ]
  },
  {
   "cell_type": "code",
   "execution_count": 10,
   "metadata": {
    "collapsed": false
   },
   "outputs": [
    {
     "data": {
      "text/plain": [
       "[1, 2, 3, 4, 5]"
      ]
     },
     "execution_count": 10,
     "metadata": {},
     "output_type": "execute_result"
    }
   ],
   "source": [
    "[1,2,3]+[4,5]"
   ]
  },
  {
   "cell_type": "code",
   "execution_count": 25,
   "metadata": {
    "collapsed": false
   },
   "outputs": [
    {
     "name": "stdout",
     "output_type": "stream",
     "text": [
      "3\n",
      "range(5, 10)\n"
     ]
    }
   ],
   "source": [
    "N = 10\n",
    "baby_index=4\n",
    "print(random.choice(range(0, baby_index)))\n",
    "print(range(baby_index+1, N))\n",
    "# random.choice(range(0, baby_index))\n",
    "# l1 = list(random.choice(range(0, baby_index)))\n",
    "# l2 = list(range(baby_index+1, N))"
   ]
  },
  {
   "cell_type": "code",
   "execution_count": null,
   "metadata": {
    "collapsed": true
   },
   "outputs": [],
   "source": []
  }
 ],
 "metadata": {
  "kernelspec": {
   "display_name": "Python 3",
   "language": "python",
   "name": "python3"
  },
  "language_info": {
   "codemirror_mode": {
    "name": "ipython",
    "version": 3
   },
   "file_extension": ".py",
   "mimetype": "text/x-python",
   "name": "python",
   "nbconvert_exporter": "python",
   "pygments_lexer": "ipython3",
   "version": "3.6.0"
  }
 },
 "nbformat": 4,
 "nbformat_minor": 2
}
