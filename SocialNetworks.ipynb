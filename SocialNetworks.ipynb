{
 "cells": [
  {
   "cell_type": "code",
   "execution_count": 1,
   "metadata": {
    "collapsed": false
   },
   "outputs": [],
   "source": [
    "import numpy as np\n",
    "import random\n",
    "\n",
    "class Node:\n",
    "    curr = 0; #used for name...sequence number of a person\n",
    "    def __init__(self, index):\n",
    "        self.index = index\n",
    "        self.dead = False\n",
    "        self.parent = None\n",
    "        self.name = str(Node.curr)\n",
    "        self.childs = []\n",
    "        self.friends = []\n",
    "        Node.curr = Node.curr+1\n",
    "    \n",
    "    def add_child(self, c):\n",
    "        self.childs.append(c)\n",
    "        c.parent = self\n",
    "        \n",
    "    def kill_me(self):\n",
    "        self.dead = True\n",
    "        \n",
    "    def add_friend(self, n):\n",
    "        self.friends.append(n)\n",
    "        n.friends.append(self)\n",
    "    \n",
    "    def get_friends(self):\n",
    "        return [f for f in self.friends if not f.dead]\n",
    "        \n",
    "    def count_friends(self):\n",
    "        return len([f for f in self.friends if not f.dead])\n",
    "\n",
    "    def __repr__(self):\n",
    "        res = self.name\n",
    "        \n",
    "        if self.friends:\n",
    "#             friend_names = map(lambda c: c.name if not c.dead else c.name + ' (dead)', self.friends)\n",
    "            friends = filter(lambda f: not f.dead, self.friends)\n",
    "            friend_names = map(lambda f: f.name, friends)\n",
    "#             res = res + \" friends: [\" + \", \".join(friend_names)+\"]\"\n",
    "            res = res + \" friends: \" + str(len(friend_names))\n",
    "        \n",
    "        if self.parent:\n",
    "            res = res + ' parent: ' + self.parent.name\n",
    "            if self.parent.dead:\n",
    "                res = res + ' (dead)'\n",
    "        \n",
    "        if self.childs:\n",
    "            child_names = map(lambda c: c.name if not c.dead else c.name + ' (dead)', self.childs)\n",
    "            res = res + \" childs: [\" + \", \".join(child_names)+\"]\"\n",
    "        \n",
    "        return res"
   ]
  },
  {
   "cell_type": "code",
   "execution_count": 2,
   "metadata": {
    "collapsed": false
   },
   "outputs": [],
   "source": [
    "def step(nodes, pb, pr, pn):\n",
    "    # kill random node and make a baby on it place\n",
    "    # with random parent\n",
    "    \n",
    "    # find random mother and random dead soul\n",
    "    dead_index = random.randrange(0,N)\n",
    "    parent_index = random.choice(range(0, dead_index) + range(dead_index+1, N)) # excludes dead index\n",
    "    \n",
    "    baby = Node(dead_index)\n",
    "    nodes[dead_index].kill_me()\n",
    "    nodes[dead_index] = baby\n",
    "    nodes[parent_index].add_child(baby)\n",
    "    \n",
    "#     print 'dead idx ' + str(dead_index) + ' parent idx ' + str(parent_index)+ ' baby name ' + baby.name \n",
    "\n",
    "    # find friends\n",
    "    parent_friends_indexes = [n.index for n in nodes[parent_index].get_friends()]\n",
    "    for i in xrange(0,N):\n",
    "        n = nodes[i]\n",
    "        \n",
    "        if i == dead_index:\n",
    "            continue # it's me .. i am not friend of myself...am i?\n",
    "        \n",
    "        if i == parent_index:\n",
    "            if random.random()<pb: baby.add_friend(n)\n",
    "            continue\n",
    "        \n",
    "        if i in parent_friends_indexes:\n",
    "            if random.random()<pn: baby.add_friend(n)\n",
    "            continue\n",
    "            \n",
    "        #else\n",
    "        if random.random()<pr:\n",
    "            baby.add_friend(n)\n",
    "    "
   ]
  },
  {
   "cell_type": "code",
   "execution_count": 4,
   "metadata": {
    "collapsed": false
   },
   "outputs": [
    {
     "name": "stdout",
     "output_type": "stream",
     "text": [
      "[33, 34, 34, 36, 38, 39, 42, 42, 45, 48, 49, 53, 56, 57, 63, 66, 71, 73, 84, 90, 99]\n",
      "[23, 24, 25, 25, 28, 29, 31, 31, 33, 36, 38, 40, 43, 47, 48, 56, 60, 67, 74, 84, 99]\n",
      "[9, 10, 11, 10, 11, 12, 12, 15, 16, 17, 16, 21, 22, 23, 27, 29, 35, 42, 48, 67, 98]\n",
      "CPU times: user 13.6 s, sys: 201 ms, total: 13.8 s\n",
      "Wall time: 13.9 s\n"
     ]
    }
   ],
   "source": [
    "%%time\n",
    "def run(pb, pr, pn):\n",
    "    # init population\n",
    "    Node.curr = 0\n",
    "    nodes = [Node(i) for i in xrange(N)]\n",
    "\n",
    "    #run steps\n",
    "    for _ in xrange(steps):\n",
    "        step(nodes, pb, pr, pn)\n",
    "\n",
    "        \n",
    "    return sum([n.count_friends() for n in nodes])/N #degree\n",
    "\n",
    "def run_n_times(pb,pr,pn):\n",
    "    return sum([run(pb,pr,pn) for _ in range(20)])/20\n",
    "\n",
    "N = 100 # num of nodes\n",
    "steps = 2000\n",
    "pb = 1\n",
    "\n",
    "pr = 0.5\n",
    "pr05 = [run(pb, pr, pn) for pn in np.arange(0,1.05,0.05)]\n",
    "print pr05\n",
    "\n",
    "pr = 0.3\n",
    "pr03 = [run(pb, pr, pn) for pn in np.arange(0,1.05,0.05)]\n",
    "print pr03\n",
    "\n",
    "pr = 0.1\n",
    "pr01 = [run(pb, pr, pn) for pn in np.arange(0,1.05,0.05)]\n",
    "print pr01\n",
    "    "
   ]
  },
  {
   "cell_type": "code",
   "execution_count": 12,
   "metadata": {
    "collapsed": false
   },
   "outputs": [
    {
     "data": {
      "image/png": "[encoded data removed]",
      "text/plain": [
       "<matplotlib.figure.Figure at 0x111fee9d0>"
      ]
     },
     "metadata": {},
     "output_type": "display_data"
    }
   ],
   "source": [
    "%matplotlib inline\n",
    "import numpy.polynomial.polynomial as poly\n",
    "import matplotlib.pyplot as plt\n",
    "\n",
    "def drawFor(x,y):\n",
    "    for x1, y1 in zip(x, y):\n",
    "        plt.plot(x1, y1, 'bo')\n",
    "    x_new = np.linspace(x[0], x[-1], num=len(x)*10)\n",
    "    coefs = poly.polyfit(x, y, 8)\n",
    "    ffit = poly.polyval(x_new, coefs)\n",
    "    plt.plot(x_new, ffit)\n",
    "\n",
    "drawFor(np.arange(0,1.05,0.05),pr01)\n",
    "drawFor(np.arange(0,1.05,0.05),pr03)\n",
    "drawFor(np.arange(0,1.05,0.05),pr05)\n",
    "plt.show()"
   ]
  },
  {
   "cell_type": "code",
   "execution_count": null,
   "metadata": {
    "collapsed": true
   },
   "outputs": [],
   "source": []
  }
 ],
 "metadata": {
  "kernelspec": {
   "display_name": "Python 2",
   "language": "python",
   "name": "python2"
  },
  "language_info": {
   "codemirror_mode": {
    "name": "ipython",
    "version": 2
   },
   "file_extension": ".py",
   "mimetype": "text/x-python",
   "name": "python",
   "nbconvert_exporter": "python",
   "pygments_lexer": "ipython2",
   "version": "2.7.13"
  }
 },
 "nbformat": 4,
 "nbformat_minor": 2
}
