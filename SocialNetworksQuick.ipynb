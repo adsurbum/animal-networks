{
 "cells": [
  {
   "cell_type": "code",
   "execution_count": 99,
   "metadata": {
    "collapsed": false
   },
   "outputs": [],
   "source": [
    "import numpy as np\n",
    "import random\n",
    "\n",
    "def step(rels, pb, pr, pn):\n",
    "    baby_index = random.randrange(0,N)\n",
    "    parent_index = random.choice(range(0, baby_index) + range(baby_index+1, N)) # excludes dead index\n",
    "    \n",
    "    #killing the guy. he is not a friend of anybody now\n",
    "    rels[:,baby_index] = np.zeros(N) \n",
    "    rels[baby_index] = np.zeros(N) \n",
    "    \n",
    "    parent_friends_indexes = np.where(rels[parent_index]==1)[0].tolist()          \n",
    "    for i in parent_friends_indexes:\n",
    "        if random.random()<pn: \n",
    "            rels[baby_index,i] = 1\n",
    "            rels[i,baby_index] = 1\n",
    "        continue\n",
    "        \n",
    "    for i in set(range(0,N)) - set(parent_friends_indexes):\n",
    "        if i == baby_index:\n",
    "            continue # it's me .. i am not friend of myself...am i?\n",
    "\n",
    "        if i == parent_index:\n",
    "            if random.random()<pb: \n",
    "                rels[baby_index,i] = 1\n",
    "                rels[i,baby_index] = 1\n",
    "            continue\n",
    "\n",
    "        #else\n",
    "        if random.random()<pr:\n",
    "            rels[baby_index,i] = 1\n",
    "            rels[i,baby_index] = 1"
   ]
  },
  {
   "cell_type": "code",
   "execution_count": 100,
   "metadata": {
    "collapsed": false
   },
   "outputs": [
    {
     "name": "stdout",
     "output_type": "stream",
     "text": [
      "[32.94, 34.84, 35.54, 36.96, 38.98, 38.82, 42.04, 42.64, 45.24, 47.32, 48.92, 53.06, 56.36, 57.26, 62.72, 65.94, 71.98, 77.22, 82.88, 90.36, 99.0]\n",
      "[23.88, 25.32, 25.18, 26.94, 28.24, 28.24, 30.2, 32.16, 33.14, 36.06, 38.96, 40.48, 41.36, 45.94, 49.6, 55.24, 61.46, 65.86, 76.1, 83.98, 99.0]\n",
      "[9.7, 10.28, 11.3, 11.36, 12.48, 11.8, 13.74, 13.78, 16.58, 15.6, 17.12, 20.6, 21.34, 23.7, 26.88, 31.26, 35.8, 44.18, 55.64, 65.12, 97.22]\n",
      "CPU times: user 8.06 s, sys: 120 ms, total: 8.18 s\n",
      "Wall time: 9.13 s\n"
     ]
    }
   ],
   "source": [
    "%%time\n",
    "def run(pb, pr, pn):\n",
    "    # init population\n",
    "    rels = np.zeros((N,N))\n",
    "\n",
    "    #run steps\n",
    "    for _ in xrange(steps):\n",
    "        step(rels,pb, pr, pn)\n",
    "\n",
    "    return sum([sum(row) for row in rels])/N #degree\n",
    "\n",
    "N = 100\n",
    "steps = 2000\n",
    "pb = 1\n",
    "\n",
    "pr = 0.5\n",
    "pr05 = [run(pb, pr, pn) for pn in np.arange(0,1.05,0.05)]\n",
    "print pr05\n",
    "\n",
    "pr = 0.3\n",
    "pr03 = [run(pb, pr, pn) for pn in np.arange(0,1.05,0.05)]\n",
    "print pr03\n",
    "\n",
    "pr = 0.1\n",
    "pr01 = [run(pb, pr, pn) for pn in np.arange(0,1.05,0.05)]\n",
    "print pr01"
   ]
  },
  {
   "cell_type": "code",
   "execution_count": 101,
   "metadata": {
    "collapsed": false
   },
   "outputs": [
    {
     "data": {
      "image/png": "[encoded data removed]",
      "text/plain": [
       "<matplotlib.figure.Figure at 0x1106ea2d0>"
      ]
     },
     "metadata": {},
     "output_type": "display_data"
    }
   ],
   "source": [
    "%matplotlib inline\n",
    "import numpy.polynomial.polynomial as poly\n",
    "import matplotlib.pyplot as plt\n",
    "\n",
    "def drawFor(x,y):\n",
    "    for x1, y1 in zip(x, y):\n",
    "        plt.plot(x1, y1, 'bo')\n",
    "    x_new = np.linspace(x[0], x[-1], num=len(x)*10)\n",
    "    coefs = poly.polyfit(x, y, 8)\n",
    "    ffit = poly.polyval(x_new, coefs)\n",
    "    plt.plot(x_new, ffit)\n",
    "\n",
    "drawFor(np.arange(0,1.05,0.05),pr01)\n",
    "drawFor(np.arange(0,1.05,0.05),pr03)\n",
    "drawFor(np.arange(0,1.05,0.05),pr05)\n",
    "plt.show()"
   ]
  },
  {
   "cell_type": "code",
   "execution_count": 107,
   "metadata": {
    "collapsed": false
   },
   "outputs": [
    {
     "name": "stdout",
     "output_type": "stream",
     "text": [
      "The slowest run took 20.41 times longer than the fastest. This could mean that an intermediate result is being cached.\n",
      "1000000 loops, best of 3: 537 ns per loop\n"
     ]
    }
   ],
   "source": [
    "%timeit rels[1]=1"
   ]
  },
  {
   "cell_type": "code",
   "execution_count": 111,
   "metadata": {
    "collapsed": false
   },
   "outputs": [],
   "source": [
    "g = rels[2]>2"
   ]
  },
  {
   "cell_type": "code",
   "execution_count": 112,
   "metadata": {
    "collapsed": false
   },
   "outputs": [
    {
     "data": {
      "text/plain": [
       "array([[3., 1., 3., 1., 1.],\n",
       "       [1., 1., 1., 1., 1.],\n",
       "       [3., 6., 0., 6., 6.],\n",
       "       [1., 8., 6., 0., 0.],\n",
       "       [1., 8., 6., 0., 0.]])"
      ]
     },
     "execution_count": 112,
     "metadata": {},
     "output_type": "execute_result"
    }
   ],
   "source": [
    "rels"
   ]
  },
  {
   "cell_type": "code",
   "execution_count": 114,
   "metadata": {
    "collapsed": false
   },
   "outputs": [
    {
     "data": {
      "text/plain": [
       "array([1., 1., 1., 1., 1.])"
      ]
     },
     "execution_count": 114,
     "metadata": {},
     "output_type": "execute_result"
    }
   ],
   "source": [
    "rels[1]"
   ]
  },
  {
   "cell_type": "code",
   "execution_count": 115,
   "metadata": {
    "collapsed": false
   },
   "outputs": [
    {
     "data": {
      "text/plain": [
       "array([ True,  True, False,  True,  True])"
      ]
     },
     "execution_count": 115,
     "metadata": {},
     "output_type": "execute_result"
    }
   ],
   "source": [
    "g"
   ]
  },
  {
   "cell_type": "code",
   "execution_count": 116,
   "metadata": {
    "collapsed": true
   },
   "outputs": [],
   "source": [
    "rels[1,g]=9"
   ]
  },
  {
   "cell_type": "code",
   "execution_count": 117,
   "metadata": {
    "collapsed": false
   },
   "outputs": [
    {
     "data": {
      "text/plain": [
       "array([[3., 1., 3., 1., 1.],\n",
       "       [9., 9., 1., 9., 9.],\n",
       "       [3., 6., 0., 6., 6.],\n",
       "       [1., 8., 6., 0., 0.],\n",
       "       [1., 8., 6., 0., 0.]])"
      ]
     },
     "execution_count": 117,
     "metadata": {},
     "output_type": "execute_result"
    }
   ],
   "source": [
    "rels"
   ]
  },
  {
   "cell_type": "code",
   "execution_count": 127,
   "metadata": {
    "collapsed": false
   },
   "outputs": [],
   "source": [
    "r = np.random.random(size=5)"
   ]
  },
  {
   "cell_type": "code",
   "execution_count": 128,
   "metadata": {
    "collapsed": false
   },
   "outputs": [
    {
     "data": {
      "text/plain": [
       "array([0.34197696, 0.57330691, 0.82695491, 0.93752862, 0.83134806])"
      ]
     },
     "execution_count": 128,
     "metadata": {},
     "output_type": "execute_result"
    }
   ],
   "source": [
    "r"
   ]
  },
  {
   "cell_type": "code",
   "execution_count": 129,
   "metadata": {
    "collapsed": false
   },
   "outputs": [
    {
     "data": {
      "text/plain": [
       "array([ True,  True, False,  True,  True])"
      ]
     },
     "execution_count": 129,
     "metadata": {},
     "output_type": "execute_result"
    }
   ],
   "source": [
    "g"
   ]
  },
  {
   "cell_type": "code",
   "execution_count": 132,
   "metadata": {
    "collapsed": false
   },
   "outputs": [
    {
     "data": {
      "text/plain": [
       "array([ True,  True])"
      ]
     },
     "execution_count": 132,
     "metadata": {},
     "output_type": "execute_result"
    }
   ],
   "source": [
    "g[r<0.6]"
   ]
  },
  {
   "cell_type": "code",
   "execution_count": 136,
   "metadata": {
    "collapsed": false
   },
   "outputs": [],
   "source": [
    "rels[1,g]=np.random.random(size=4)<0.2"
   ]
  },
  {
   "cell_type": "code",
   "execution_count": 140,
   "metadata": {
    "collapsed": false
   },
   "outputs": [
    {
     "data": {
      "text/plain": [
       "array([[3., 1., 3., 1., 1.],\n",
       "       [0., 0., 1., 0., 0.],\n",
       "       [3., 6., 0., 6., 6.],\n",
       "       [1., 8., 6., 0., 0.],\n",
       "       [1., 8., 6., 0., 0.]])"
      ]
     },
     "execution_count": 140,
     "metadata": {},
     "output_type": "execute_result"
    }
   ],
   "source": [
    "rels[1,g]=np.random.random(size=4)<0.2\n",
    "rels"
   ]
  },
  {
   "cell_type": "code",
   "execution_count": 141,
   "metadata": {
    "collapsed": true
   },
   "outputs": [],
   "source": [
    "k = np.random.random(size=4)"
   ]
  },
  {
   "cell_type": "code",
   "execution_count": 142,
   "metadata": {
    "collapsed": false
   },
   "outputs": [
    {
     "data": {
      "text/plain": [
       "array([0.74613112, 0.93127124, 0.06433074, 0.14491059])"
      ]
     },
     "execution_count": 142,
     "metadata": {},
     "output_type": "execute_result"
    }
   ],
   "source": [
    "k"
   ]
  },
  {
   "cell_type": "code",
   "execution_count": 145,
   "metadata": {
    "collapsed": false
   },
   "outputs": [
    {
     "data": {
      "text/plain": [
       "array([[3., 1., 3., 1., 1.],\n",
       "       [1., 1., 1., 0., 0.],\n",
       "       [3., 6., 0., 6., 6.],\n",
       "       [1., 8., 6., 0., 0.],\n",
       "       [1., 8., 6., 0., 0.]])"
      ]
     },
     "execution_count": 145,
     "metadata": {},
     "output_type": "execute_result"
    }
   ],
   "source": [
    "rels[1,g]\n",
    "rels"
   ]
  },
  {
   "cell_type": "code",
   "execution_count": 147,
   "metadata": {
    "collapsed": false
   },
   "outputs": [
    {
     "data": {
      "text/plain": [
       "4"
      ]
     },
     "execution_count": 147,
     "metadata": {},
     "output_type": "execute_result"
    }
   ],
   "source": [
    "len(rels[1,g])"
   ]
  },
  {
   "cell_type": "code",
   "execution_count": 151,
   "metadata": {
    "collapsed": false
   },
   "outputs": [
    {
     "ename": "AttributeError",
     "evalue": "'numpy.ndarray' object has no attribute 'ones'",
     "output_type": "error",
     "traceback": [
      "\u001b[0;31m---------------------------------------------------------------------------\u001b[0m",
      "\u001b[0;31mAttributeError\u001b[0m                            Traceback (most recent call last)",
      "\u001b[0;32m<ipython-input-151-6cd50f7ddded>\u001b[0m in \u001b[0;36m<module>\u001b[0;34m()\u001b[0m\n\u001b[0;32m----> 1\u001b[0;31m \u001b[0mg\u001b[0m\u001b[0;34m.\u001b[0m\u001b[0mones\u001b[0m\u001b[0;34m(\u001b[0m\u001b[0;34m)\u001b[0m\u001b[0;34m\u001b[0m\u001b[0m\n\u001b[0m",
      "\u001b[0;31mAttributeError\u001b[0m: 'numpy.ndarray' object has no attribute 'ones'"
     ]
    }
   ],
   "source": [
    "g.ones()"
   ]
  },
  {
   "cell_type": "code",
   "execution_count": 169,
   "metadata": {
    "collapsed": true
   },
   "outputs": [],
   "source": [
    "k = np.random.random(size=10000)"
   ]
  },
  {
   "cell_type": "code",
   "execution_count": 170,
   "metadata": {
    "collapsed": true
   },
   "outputs": [],
   "source": [
    "k[k>0.5]=1"
   ]
  },
  {
   "cell_type": "code",
   "execution_count": 172,
   "metadata": {
    "collapsed": false
   },
   "outputs": [],
   "source": [
    "k[k<0.5]=0"
   ]
  },
  {
   "cell_type": "code",
   "execution_count": 178,
   "metadata": {
    "collapsed": false
   },
   "outputs": [
    {
     "name": "stdout",
     "output_type": "stream",
     "text": [
      "10000 loops, best of 3: 64.6 µs per loop\n",
      "The slowest run took 4.82 times longer than the fastest. This could mean that an intermediate result is being cached.\n",
      "100000 loops, best of 3: 6.63 µs per loop\n"
     ]
    }
   ],
   "source": [
    "%timeit len(k[k==1])\n",
    "%timeit k.sum()"
   ]
  },
  {
   "cell_type": "code",
   "execution_count": 176,
   "metadata": {
    "collapsed": false
   },
   "outputs": [
    {
     "data": {
      "text/plain": [
       "5009"
      ]
     },
     "execution_count": 176,
     "metadata": {},
     "output_type": "execute_result"
    }
   ],
   "source": [
    "len(k[k==1])"
   ]
  },
  {
   "cell_type": "code",
   "execution_count": 174,
   "metadata": {
    "collapsed": false
   },
   "outputs": [
    {
     "data": {
      "text/plain": [
       "5009.0"
      ]
     },
     "execution_count": 174,
     "metadata": {},
     "output_type": "execute_result"
    }
   ],
   "source": [
    "k.sum()"
   ]
  },
  {
   "cell_type": "code",
   "execution_count": 175,
   "metadata": {
    "collapsed": false
   },
   "outputs": [
    {
     "data": {
      "text/plain": [
       "array([0., 1., 0., ..., 1., 0., 1.])"
      ]
     },
     "execution_count": 175,
     "metadata": {},
     "output_type": "execute_result"
    }
   ],
   "source": [
    "k"
   ]
  },
  {
   "cell_type": "code",
   "execution_count": 168,
   "metadata": {
    "collapsed": false
   },
   "outputs": [
    {
     "data": {
      "text/plain": [
       "array([ True,  True,  True, ...,  True,  True,  True])"
      ]
     },
     "execution_count": 168,
     "metadata": {},
     "output_type": "execute_result"
    }
   ],
   "source": [
    "k"
   ]
  },
  {
   "cell_type": "code",
   "execution_count": 181,
   "metadata": {
    "collapsed": false
   },
   "outputs": [
    {
     "data": {
      "text/plain": [
       "3"
      ]
     },
     "execution_count": 181,
     "metadata": {},
     "output_type": "execute_result"
    }
   ],
   "source": [
    "random.randrange(0,7)"
   ]
  },
  {
   "cell_type": "code",
   "execution_count": null,
   "metadata": {
    "collapsed": true
   },
   "outputs": [],
   "source": []
  }
 ],
 "metadata": {
  "kernelspec": {
   "display_name": "Python 2",
   "language": "python",
   "name": "python2"
  },
  "language_info": {
   "codemirror_mode": {
    "name": "ipython",
    "version": 2
   },
   "file_extension": ".py",
   "mimetype": "text/x-python",
   "name": "python",
   "nbconvert_exporter": "python",
   "pygments_lexer": "ipython2",
   "version": "2.7.13"
  }
 },
 "nbformat": 4,
 "nbformat_minor": 2
}
