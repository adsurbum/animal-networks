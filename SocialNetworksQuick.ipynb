{
 "cells": [
  {
   "cell_type": "code",
   "execution_count": 13,
   "metadata": {
    "collapsed": false
   },
   "outputs": [],
   "source": [
    "import numpy as np\n",
    "import random\n",
    "\n",
    "def step(rels, pb, pr, pn):\n",
    "    baby_index = random.randrange(0,N)\n",
    "    parent_index = random.choice(range(0, baby_index) + range(baby_index+1, N)) # excludes dead index\n",
    "    \n",
    "    #killing the guy. he is not a friend of anybody now\n",
    "    rels[:,baby_index] = np.zeros(N) \n",
    "    rels[baby_index] = np.zeros(N) \n",
    "    \n",
    "    parent_friends_indexes = np.where(rels[parent_index]==1)[0].tolist()\n",
    "#     x = set(range(0,N))\n",
    "#     y = x - set(parent_friends_indexes)\n",
    "    for i in parent_friends_indexes:\n",
    "\n",
    "        if i == baby_index:\n",
    "            continue # it's me .. i am not friend of myself...am i?\n",
    "\n",
    "        if i == parent_index:\n",
    "            if random.random()<pb: \n",
    "                rels[baby_index,i] = 1\n",
    "                rels[i,baby_index] = 1\n",
    "            continue\n",
    "\n",
    "        if i in parent_friends_indexes:\n",
    "            if random.random()<pn: \n",
    "                rels[baby_index,i] = 1\n",
    "                rels[i,baby_index] = 1\n",
    "            continue\n",
    "\n",
    "        #else\n",
    "        if random.random()<pr:\n",
    "            rels[baby_index,i] = 1\n",
    "            rels[i,baby_index] = 1\n",
    "\n",
    "    \n",
    "    \n"
   ]
  },
  {
   "cell_type": "code",
   "execution_count": 14,
   "metadata": {
    "collapsed": false
   },
   "outputs": [
    {
     "name": "stdout",
     "output_type": "stream",
     "text": [
      "[32.34, 34.56, 35.26, 37.88, 38.5, 39.82, 41.6, 44.14, 46.02, 46.6, 49.46, 52.86, 56.0, 58.66, 62.8, 66.72, 70.44, 76.12, 83.08, 90.7, 99.0]\n",
      "[22.86, 24.16, 25.08, 26.44, 27.64, 30.04, 30.1, 31.96, 32.82, 36.24, 38.18, 39.4, 43.96, 45.56, 49.68, 56.38, 61.0, 67.64, 74.96, 84.82, 99.0]\n",
      "[9.82, 10.06, 10.6, 10.86, 11.5, 12.7, 14.16, 14.66, 14.04, 16.72, 17.68, 19.14, 23.26, 24.32, 27.26, 28.44, 36.9, 41.58, 52.3, 70.26, 97.0]\n",
      "CPU times: user 12.4 s, sys: 51.6 ms, total: 12.5 s\n",
      "Wall time: 12.5 s\n"
     ]
    }
   ],
   "source": [
    "%%time\n",
    "def run(pb, pr, pn):\n",
    "    # init population\n",
    "    rels = np.zeros((N,N))\n",
    "\n",
    "    #run steps\n",
    "    for _ in xrange(steps):\n",
    "        step(rels,pb, pr, pn)\n",
    "\n",
    "    return sum([sum(row) for row in rels])/N #degree\n",
    "\n",
    "N = 100\n",
    "steps = 2000\n",
    "pb = 1\n",
    "\n",
    "pr = 0.5\n",
    "pr05 = [run(pb, pr, pn) for pn in np.arange(0,1.05,0.05)]\n",
    "print pr05\n",
    "\n",
    "pr = 0.3\n",
    "pr03 = [run(pb, pr, pn) for pn in np.arange(0,1.05,0.05)]\n",
    "print pr03\n",
    "\n",
    "pr = 0.1\n",
    "pr01 = [run(pb, pr, pn) for pn in np.arange(0,1.05,0.05)]\n",
    "print pr01"
   ]
  },
  {
   "cell_type": "code",
   "execution_count": 3,
   "metadata": {
    "collapsed": false
   },
   "outputs": [
    {
     "data": {
      "image/png": "[encoded data removed]",
      "text/plain": [
       "<matplotlib.figure.Figure at 0x10bc77c10>"
      ]
     },
     "metadata": {},
     "output_type": "display_data"
    }
   ],
   "source": [
    "%matplotlib inline\n",
    "import numpy.polynomial.polynomial as poly\n",
    "import matplotlib.pyplot as plt\n",
    "\n",
    "def drawFor(x,y):\n",
    "    for x1, y1 in zip(x, y):\n",
    "        plt.plot(x1, y1, 'bo')\n",
    "    x_new = np.linspace(x[0], x[-1], num=len(x)*10)\n",
    "    coefs = poly.polyfit(x, y, 8)\n",
    "    ffit = poly.polyval(x_new, coefs)\n",
    "    plt.plot(x_new, ffit)\n",
    "\n",
    "drawFor(np.arange(0,1.05,0.05),pr01)\n",
    "drawFor(np.arange(0,1.05,0.05),pr03)\n",
    "drawFor(np.arange(0,1.05,0.05),pr05)\n",
    "plt.show()"
   ]
  },
  {
   "cell_type": "code",
   "execution_count": null,
   "metadata": {
    "collapsed": true
   },
   "outputs": [],
   "source": []
  }
 ],
 "metadata": {
  "kernelspec": {
   "display_name": "Python 2",
   "language": "python",
   "name": "python2"
  },
  "language_info": {
   "codemirror_mode": {
    "name": "ipython",
    "version": 2
   },
   "file_extension": ".py",
   "mimetype": "text/x-python",
   "name": "python",
   "nbconvert_exporter": "python",
   "pygments_lexer": "ipython2",
   "version": "2.7.13"
  }
 },
 "nbformat": 4,
 "nbformat_minor": 2
}
