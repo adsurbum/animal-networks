{
 "cells": [
  {
   "cell_type": "code",
   "execution_count": 26,
   "metadata": {
    "collapsed": false
   },
   "outputs": [],
   "source": [
    "import numpy as np\n",
    "import random\n",
    "\n",
    "def step(rels, pb, pr, pn):\n",
    "    baby_index = random.randrange(0,N)\n",
    "    parent_index = random.choice(range(0, baby_index) + range(baby_index+1, N)) # excludes dead index\n",
    "    \n",
    "    #killing the guy. he is not a friend of anybody now\n",
    "    rels[:,baby_index] = np.zeros(N) \n",
    "    rels[baby_index] = np.zeros(N) \n",
    "    \n",
    "    parent_friends_indexes = np.where(rels[parent_index]==1)[0].tolist()          \n",
    "    for i in parent_friends_indexes:\n",
    "        if random.random()<pn: \n",
    "            rels[baby_index,i] = 1\n",
    "            rels[i,baby_index] = 1\n",
    "        continue\n",
    "        \n",
    "    for i in set(range(0,N)) - set(parent_friends_indexes):\n",
    "\n",
    "        if i == baby_index:\n",
    "            continue # it's me .. i am not friend of myself...am i?\n",
    "\n",
    "        if i == parent_index:\n",
    "            if random.random()<pb: \n",
    "                rels[baby_index,i] = 1\n",
    "                rels[i,baby_index] = 1\n",
    "            continue\n",
    "\n",
    "        #else\n",
    "        if random.random()<pr:\n",
    "            rels[baby_index,i] = 1\n",
    "            rels[i,baby_index] = 1"
   ]
  },
  {
   "cell_type": "code",
   "execution_count": 27,
   "metadata": {
    "collapsed": false
   },
   "outputs": [
    {
     "name": "stdout",
     "output_type": "stream",
     "text": [
      "[33.48, 33.92, 36.02, 38.34, 37.34, 39.68, 41.68, 43.36, 45.58, 47.72, 49.34, 52.7, 55.34, 57.84, 63.08, 68.22, 69.74, 74.52, 83.54, 90.02, 99.0]\n",
      "[23.84, 24.42, 25.74, 26.44, 26.8, 27.92, 29.86, 33.48, 33.42, 35.4, 38.78, 40.78, 41.4, 47.94, 51.82, 55.7, 62.52, 66.42, 76.1, 84.64, 99.0]\n",
      "[9.34, 10.58, 11.08, 11.28, 12.08, 11.94, 14.08, 15.86, 14.92, 15.9, 17.44, 19.5, 21.5, 24.34, 25.16, 28.82, 34.62, 43.92, 51.88, 69.08, 98.84]\n",
      "CPU times: user 6.66 s, sys: 40.8 ms, total: 6.7 s\n",
      "Wall time: 6.76 s\n"
     ]
    }
   ],
   "source": [
    "%%time\n",
    "def run(pb, pr, pn):\n",
    "    # init population\n",
    "    rels = np.zeros((N,N))\n",
    "\n",
    "    #run steps\n",
    "    for _ in xrange(steps):\n",
    "        step(rels,pb, pr, pn)\n",
    "\n",
    "    return sum([sum(row) for row in rels])/N #degree\n",
    "\n",
    "N = 100\n",
    "steps = 2000\n",
    "pb = 1\n",
    "\n",
    "pr = 0.5\n",
    "pr05 = [run(pb, pr, pn) for pn in np.arange(0,1.05,0.05)]\n",
    "print pr05\n",
    "\n",
    "pr = 0.3\n",
    "pr03 = [run(pb, pr, pn) for pn in np.arange(0,1.05,0.05)]\n",
    "print pr03\n",
    "\n",
    "pr = 0.1\n",
    "pr01 = [run(pb, pr, pn) for pn in np.arange(0,1.05,0.05)]\n",
    "print pr01"
   ]
  },
  {
   "cell_type": "code",
   "execution_count": 28,
   "metadata": {
    "collapsed": false
   },
   "outputs": [
    {
     "data": {
      "image/png": "[encoded data removed]",
      "text/plain": [
       "<matplotlib.figure.Figure at 0x10ccdb850>"
      ]
     },
     "metadata": {},
     "output_type": "display_data"
    }
   ],
   "source": [
    "%matplotlib inline\n",
    "import numpy.polynomial.polynomial as poly\n",
    "import matplotlib.pyplot as plt\n",
    "\n",
    "def drawFor(x,y):\n",
    "    for x1, y1 in zip(x, y):\n",
    "        plt.plot(x1, y1, 'bo')\n",
    "    x_new = np.linspace(x[0], x[-1], num=len(x)*10)\n",
    "    coefs = poly.polyfit(x, y, 8)\n",
    "    ffit = poly.polyval(x_new, coefs)\n",
    "    plt.plot(x_new, ffit)\n",
    "\n",
    "drawFor(np.arange(0,1.05,0.05),pr01)\n",
    "drawFor(np.arange(0,1.05,0.05),pr03)\n",
    "drawFor(np.arange(0,1.05,0.05),pr05)\n",
    "plt.show()"
   ]
  },
  {
   "cell_type": "code",
   "execution_count": null,
   "metadata": {
    "collapsed": true
   },
   "outputs": [],
   "source": []
  }
 ],
 "metadata": {
  "kernelspec": {
   "display_name": "Python 2",
   "language": "python",
   "name": "python2"
  },
  "language_info": {
   "codemirror_mode": {
    "name": "ipython",
    "version": 2
   },
   "file_extension": ".py",
   "mimetype": "text/x-python",
   "name": "python",
   "nbconvert_exporter": "python",
   "pygments_lexer": "ipython2",
   "version": "2.7.13"
  }
 },
 "nbformat": 4,
 "nbformat_minor": 2
}
