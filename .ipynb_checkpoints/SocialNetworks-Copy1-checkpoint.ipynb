{
 "cells": [
  {
   "cell_type": "code",
   "execution_count": 1,
   "metadata": {
    "collapsed": false
   },
   "outputs": [],
   "source": [
    "import numpy as np\n",
    "import random\n",
    "\n",
    "class Node:\n",
    "    curr = 0; #used for name...sequence number of a person\n",
    "    def __init__(self, index):\n",
    "        self.index = index\n",
    "        self.dead = False\n",
    "        self.parent = None\n",
    "        self.name = str(Node.curr)\n",
    "        self.childs = []\n",
    "        self.friends = []\n",
    "        Node.curr = Node.curr+1\n",
    "    \n",
    "    def add_child(self, c):\n",
    "        self.childs.append(c)\n",
    "        c.parent = self\n",
    "        \n",
    "    def kill_me(self):\n",
    "        self.dead = True\n",
    "        \n",
    "    def add_friend(self, n):\n",
    "        self.friends.append(n)\n",
    "        n.friends.append(self)\n",
    "    \n",
    "    def get_friends(self):\n",
    "        return [f for f in self.friends if not f.dead]\n",
    "        \n",
    "    def count_friends(self):\n",
    "        return len([f for f in self.friends if not f.dead])\n",
    "\n",
    "    def __repr__(self):\n",
    "        res = self.name\n",
    "        \n",
    "        if self.friends:\n",
    "#             friend_names = map(lambda c: c.name if not c.dead else c.name + ' (dead)', self.friends)\n",
    "            friends = filter(lambda f: not f.dead, self.friends)\n",
    "            friend_names = map(lambda f: f.name, friends)\n",
    "#             res = res + \" friends: [\" + \", \".join(friend_names)+\"]\"\n",
    "            res = res + \" friends: \" + str(len(friend_names))\n",
    "        \n",
    "        if self.parent:\n",
    "            res = res + ' parent: ' + self.parent.name\n",
    "            if self.parent.dead:\n",
    "                res = res + ' (dead)'\n",
    "        \n",
    "        if self.childs:\n",
    "            child_names = map(lambda c: c.name if not c.dead else c.name + ' (dead)', self.childs)\n",
    "            res = res + \" childs: [\" + \", \".join(child_names)+\"]\"\n",
    "        \n",
    "        return res"
   ]
  },
  {
   "cell_type": "code",
   "execution_count": 2,
   "metadata": {
    "collapsed": false
   },
   "outputs": [],
   "source": [
    "def step(nodes, pb, pr, pn):\n",
    "    # kill random node and make a baby on it place\n",
    "    # with random parent\n",
    "    \n",
    "    # find random mother and random dead soul\n",
    "    dead_index = random.randrange(0,N)\n",
    "    parent_index = random.choice(range(0, dead_index) + range(dead_index+1, N)) # excludes dead index\n",
    "    \n",
    "    baby = Node(dead_index)\n",
    "    nodes[dead_index].kill_me()\n",
    "    nodes[dead_index] = baby\n",
    "    nodes[parent_index].add_child(baby)\n",
    "    \n",
    "#     print 'dead idx ' + str(dead_index) + ' parent idx ' + str(parent_index)+ ' baby name ' + baby.name \n",
    "\n",
    "    # find friends\n",
    "    parent_friends_indexes = [n.index for n in nodes[parent_index].get_friends()]\n",
    "    for i in xrange(0,N):\n",
    "        n = nodes[i]\n",
    "        \n",
    "        if i == dead_index:\n",
    "            continue # it's me .. i am not friend of myself...am i?\n",
    "        \n",
    "        if i == parent_index:\n",
    "            if random.random()<pb: baby.add_friend(n)\n",
    "            continue\n",
    "        \n",
    "        if i in parent_friends_indexes:\n",
    "            if random.random()<pn: baby.add_friend(n)\n",
    "            continue\n",
    "            \n",
    "        #else\n",
    "        if random.random()<pr:\n",
    "            baby.add_friend(n)\n",
    "    "
   ]
  },
  {
   "cell_type": "code",
   "execution_count": 3,
   "metadata": {
    "collapsed": false
   },
   "outputs": [
    {
     "name": "stdout",
     "output_type": "stream",
     "text": [
      "[34, 34, 36, 38, 38, 39, 41, 43, 45, 47, 49, 51, 55, 59, 61, 67, 70, 76, 82, 90, 99]\n",
      "[24, 24, 25, 26, 26, 28, 31, 31, 34, 36, 37, 39, 41, 46, 49, 54, 61, 67, 74, 87, 99]\n",
      "[9, 10, 10, 11, 12, 12, 14, 14, 16, 15, 16, 18, 19, 24, 26, 29, 34, 39, 50, 73, 99]\n",
      "CPU times: user 14.4 s, sys: 258 ms, total: 14.7 s\n",
      "Wall time: 15 s\n"
     ]
    }
   ],
   "source": [
    "%%time\n",
    "def run(pb, pr, pn):\n",
    "    # init population\n",
    "    Node.curr = 0\n",
    "    nodes = [Node(i) for i in xrange(N)]\n",
    "\n",
    "    #run steps\n",
    "    for _ in xrange(steps):\n",
    "        step(nodes, pb, pr, pn)\n",
    "\n",
    "    return sum([n.count_friends() for n in nodes])/N #degree\n",
    "\n",
    "N = 100 # num of nodes\n",
    "steps = 2000\n",
    "pb = 1\n",
    "\n",
    "pr = 0.5\n",
    "pr05 = [run(pb, pr, pn) for pn in np.arange(0,1.05,0.05)]\n",
    "print pr05\n",
    "\n",
    "pr = 0.3\n",
    "pr03 = [run(pb, pr, pn) for pn in np.arange(0,1.05,0.05)]\n",
    "print pr03\n",
    "\n",
    "pr = 0.1\n",
    "pr01 = [run(pb, pr, pn) for pn in np.arange(0,1.05,0.05)]\n",
    "print pr01\n",
    "    "
   ]
  },
  {
   "cell_type": "code",
   "execution_count": 7,
   "metadata": {
    "collapsed": false
   },
   "outputs": [
    {
     "data": {
      "image/png": "[encoded data removed]",
      "text/plain": [
       "<matplotlib.figure.Figure at 0x1115b6910>"
      ]
     },
     "metadata": {},
     "output_type": "display_data"
    }
   ],
   "source": [
    "%matplotlib inline\n",
    "import numpy.polynomial.polynomial as poly\n",
    "import matplotlib.pyplot as plt\n",
    "\n",
    "def drawFor(x,y):\n",
    "    for x1, y1 in zip(x, y):\n",
    "        plt.plot(x1, y1, 'bo')\n",
    "    x_new = np.linspace(x[0], x[-1], num=len(x)*10)\n",
    "    coefs = poly.polyfit(x, y, 8)\n",
    "    ffit = poly.polyval(x_new, coefs)\n",
    "    plt.plot(x_new, ffit)\n",
    "\n",
    "drawFor(np.arange(0,1.05,0.05),pr01)\n",
    "drawFor(np.arange(0,1.05,0.05),pr03)\n",
    "drawFor(np.arange(0,1.05,0.05),pr05)\n",
    "plt.show()"
   ]
  },
  {
   "cell_type": "code",
   "execution_count": null,
   "metadata": {
    "collapsed": true
   },
   "outputs": [],
   "source": []
  },
  {
   "cell_type": "code",
   "execution_count": null,
   "metadata": {
    "collapsed": true
   },
   "outputs": [],
   "source": []
  }
 ],
 "metadata": {
  "kernelspec": {
   "display_name": "Python 2",
   "language": "python",
   "name": "python2"
  },
  "language_info": {
   "codemirror_mode": {
    "name": "ipython",
    "version": 2
   },
   "file_extension": ".py",
   "mimetype": "text/x-python",
   "name": "python",
   "nbconvert_exporter": "python",
   "pygments_lexer": "ipython2",
   "version": "2.7.13"
  }
 },
 "nbformat": 4,
 "nbformat_minor": 2
}
